{
 "cells": [
  {
   "cell_type": "code",
   "execution_count": 1,
   "metadata": {},
   "outputs": [],
   "source": [
    "import sys\n",
    "import warnings\n",
    "\n",
    "\n",
    "warnings.filterwarnings(\"ignore\")\n",
    "sys.path.append(\"../\")"
   ]
  },
  {
   "cell_type": "code",
   "execution_count": 2,
   "metadata": {},
   "outputs": [
    {
     "name": "stdout",
     "output_type": "stream",
     "text": [
      "[]\n"
     ]
    }
   ],
   "source": [
    "from modules.data.vietnamese.reader import to_data_frame\n",
    "\n",
    "to_data_frame(\"/home/longdo/Documents/Intern_Project/data/NER/Vietnamese\", \"/home/longdo/Documents/Intern_Project/data/NER/Vietnamese\")"
   ]
  },
  {
   "cell_type": "code",
   "execution_count": 3,
   "metadata": {},
   "outputs": [
    {
     "data": {
      "text/html": [
       "<div>\n",
       "<style scoped>\n",
       "    .dataframe tbody tr th:only-of-type {\n",
       "        vertical-align: middle;\n",
       "    }\n",
       "\n",
       "    .dataframe tbody tr th {\n",
       "        vertical-align: top;\n",
       "    }\n",
       "\n",
       "    .dataframe thead th {\n",
       "        text-align: right;\n",
       "    }\n",
       "</style>\n",
       "<table border=\"1\" class=\"dataframe\">\n",
       "  <thead>\n",
       "    <tr style=\"text-align: right;\">\n",
       "      <th></th>\n",
       "      <th>labels</th>\n",
       "      <th>text</th>\n",
       "      <th>clf</th>\n",
       "    </tr>\n",
       "  </thead>\n",
       "  <tbody>\n",
       "    <tr>\n",
       "      <th>0</th>\n",
       "      <td>O O O O O O O O O O O O O O O O O O O O O O O ...</td>\n",
       "      <td>Mỗi ngày của \" caddy \" ( \" két \" - từ chỉ nhân...</td>\n",
       "      <td>True</td>\n",
       "    </tr>\n",
       "    <tr>\n",
       "      <th>1</th>\n",
       "      <td>O O O O O O O O O O O O O O O O</td>\n",
       "      <td>Mỗi ngày họ phải đi bộ khoảng 20 km để phục vụ...</td>\n",
       "      <td>False</td>\n",
       "    </tr>\n",
       "    <tr>\n",
       "      <th>2</th>\n",
       "      <td>O O O O O O O O O O O O O O O O O O O O O O O ...</td>\n",
       "      <td>Nhiều người hiểu rằng sân golf là nơi chỉ dành...</td>\n",
       "      <td>False</td>\n",
       "    </tr>\n",
       "    <tr>\n",
       "      <th>3</th>\n",
       "      <td>O O O O O O O O O O O O O O O O O O O O O O O ...</td>\n",
       "      <td>\" Nhiều người ở quê cứ tưởng \" két \" chúng tôi...</td>\n",
       "      <td>False</td>\n",
       "    </tr>\n",
       "    <tr>\n",
       "      <th>4</th>\n",
       "      <td>O O O O O O</td>\n",
       "      <td>Từ mồ hôi thấm ướt cỏ</td>\n",
       "      <td>True</td>\n",
       "    </tr>\n",
       "  </tbody>\n",
       "</table>\n",
       "</div>"
      ],
      "text/plain": [
       "                                              labels  \\\n",
       "0  O O O O O O O O O O O O O O O O O O O O O O O ...   \n",
       "1                    O O O O O O O O O O O O O O O O   \n",
       "2  O O O O O O O O O O O O O O O O O O O O O O O ...   \n",
       "3  O O O O O O O O O O O O O O O O O O O O O O O ...   \n",
       "4                                        O O O O O O   \n",
       "\n",
       "                                                text    clf  \n",
       "0  Mỗi ngày của \" caddy \" ( \" két \" - từ chỉ nhân...   True  \n",
       "1  Mỗi ngày họ phải đi bộ khoảng 20 km để phục vụ...  False  \n",
       "2  Nhiều người hiểu rằng sân golf là nơi chỉ dành...  False  \n",
       "3  \" Nhiều người ở quê cứ tưởng \" két \" chúng tôi...  False  \n",
       "4                              Từ mồ hôi thấm ướt cỏ   True  "
      ]
     },
     "execution_count": 3,
     "metadata": {},
     "output_type": "execute_result"
    }
   ],
   "source": [
    "import pandas as pd\n",
    "\n",
    "dev_df_path = \"/home/longdo/Documents/Intern_Project/data/NER/Vietnamese/test.csv\"\n",
    "df = pd.read_csv(dev_df_path, sep=\"\\t\")\n",
    "df.head()"
   ]
  }
 ],
 "metadata": {
  "interpreter": {
   "hash": "31f2aee4e71d21fbe5cf8b01ff0e069b9275f58929596ceb00d14d90e3e16cd6"
  },
  "kernelspec": {
   "display_name": "Python 3.8.10 64-bit",
   "language": "python",
   "name": "python3"
  },
  "language_info": {
   "codemirror_mode": {
    "name": "ipython",
    "version": 3
   },
   "file_extension": ".py",
   "mimetype": "text/x-python",
   "name": "python",
   "nbconvert_exporter": "python",
   "pygments_lexer": "ipython3",
   "version": "3.8.10"
  },
  "orig_nbformat": 4
 },
 "nbformat": 4,
 "nbformat_minor": 2
}
