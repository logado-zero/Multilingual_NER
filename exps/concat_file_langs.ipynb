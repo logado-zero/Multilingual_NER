{
 "cells": [
  {
   "cell_type": "code",
   "execution_count": 1,
   "metadata": {},
   "outputs": [],
   "source": [
    "import sys\n",
    "import warnings\n",
    "\n",
    "\n",
    "warnings.filterwarnings(\"ignore\")\n",
    "sys.path.append(\"../\")"
   ]
  },
  {
   "cell_type": "code",
   "execution_count": 4,
   "metadata": {},
   "outputs": [],
   "source": [
    "import pandas as pd\n",
    "\n",
    "dev_df_path = \\\n",
    "    [\"/home/longdo/Documents/Intern_Project/data/NER/Vietnamese/train.csv\",\n",
    "    \"/home/longdo/Documents/Intern_Project/data/NER/factRuEval-2016-master/dev.csv\"]\n",
    "\n",
    "test_df_path = \\\n",
    "    [\"/home/longdo/Documents/Intern_Project/data/NER/Vietnamese/train.csv\",\n",
    "    \"/home/longdo/Documents/Intern_Project/data/NER/factRuEval-2016-master/test.csv\"]\n",
    "\n",
    "des_path = \"/home/longdo/Documents/Intern_Project/data/NER\"\n",
    "train_list = []\n",
    "test_list = []\n",
    "for i in dev_df_path:\n",
    "    train_list.append(pd.read_csv(i, sep=\"\\t\"))\n",
    "\n",
    "for i in test_df_path:\n",
    "    test_list.append(pd.read_csv(i, sep=\"\\t\"))\n",
    "\n",
    "train = pd.concat(train_list)\n",
    "test = pd.concat(test_list)\n",
    "\n",
    "train.to_csv(des_path+\"/train_concat.csv\", index=False, sep=\"\\t\")\n",
    "test.to_csv(des_path+\"/test_concat.csv\", index=False, sep=\"\\t\")"
   ]
  },
  {
   "cell_type": "code",
   "execution_count": null,
   "metadata": {},
   "outputs": [],
   "source": []
  }
 ],
 "metadata": {
  "interpreter": {
   "hash": "31f2aee4e71d21fbe5cf8b01ff0e069b9275f58929596ceb00d14d90e3e16cd6"
  },
  "kernelspec": {
   "display_name": "Python 3.8.10 64-bit",
   "language": "python",
   "name": "python3"
  },
  "language_info": {
   "codemirror_mode": {
    "name": "ipython",
    "version": 3
   },
   "file_extension": ".py",
   "mimetype": "text/x-python",
   "name": "python",
   "nbconvert_exporter": "python",
   "pygments_lexer": "ipython3",
   "version": "3.8.10"
  },
  "orig_nbformat": 4
 },
 "nbformat": 4,
 "nbformat_minor": 2
}
