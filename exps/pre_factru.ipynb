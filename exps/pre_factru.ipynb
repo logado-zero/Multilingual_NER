{
 "cells": [
  {
   "cell_type": "markdown",
   "metadata": {},
   "source": [
    "# FactRuEval-2016 preprocess\n",
    "More info about dataset: https://github.com/dialogue-evaluation/factRuEval-2016"
   ]
  },
  {
   "cell_type": "code",
   "execution_count": 1,
   "metadata": {},
   "outputs": [],
   "source": [
    "import sys\n",
    "import warnings\n",
    "\n",
    "\n",
    "warnings.filterwarnings(\"ignore\")\n",
    "sys.path.append(\"../\")"
   ]
  },
  {
   "cell_type": "code",
   "execution_count": 2,
   "metadata": {},
   "outputs": [
    {
     "name": "stderr",
     "output_type": "stream",
     "text": [
      "Process FactRuEval2016 dev set.: 100%|██████████| 1519/1519 [00:00<00:00, 1813591.74it/s]\n",
      "Process FactRuEval2016 test set.: 100%|██████████| 2715/2715 [00:00<00:00, 2025170.79it/s]\n"
     ]
    }
   ],
   "source": [
    "from modules.data.fact_ru_val.preprocess import fact_ru_eval_preprocess\n",
    "\n",
    "dev_dir = \"/home/longdo/Documents/Intern_Project/data/NER/factRuEval-2016-master/devset/\"\n",
    "test_dir = \"/home/longdo/Documents/Intern_Project/data/NER/factRuEval-2016-master/testset/\"\n",
    "dev_df_path = \"/home/longdo/Documents/Intern_Project/data/NER/factRuEval-2016-master/dev.csv\"\n",
    "test_df_path = \"/home/longdo/Documents/Intern_Project/data/NER/factRuEval-2016-master/test.csv\"\n",
    "\n",
    "fact_ru_eval_preprocess(dev_dir, test_dir, dev_df_path, test_df_path)"
   ]
  },
  {
   "cell_type": "code",
   "execution_count": 1,
   "metadata": {},
   "outputs": [
    {
     "data": {
      "text/html": [
       "<div>\n",
       "<style scoped>\n",
       "    .dataframe tbody tr th:only-of-type {\n",
       "        vertical-align: middle;\n",
       "    }\n",
       "\n",
       "    .dataframe tbody tr th {\n",
       "        vertical-align: top;\n",
       "    }\n",
       "\n",
       "    .dataframe thead th {\n",
       "        text-align: right;\n",
       "    }\n",
       "</style>\n",
       "<table border=\"1\" class=\"dataframe\">\n",
       "  <thead>\n",
       "    <tr style=\"text-align: right;\">\n",
       "      <th></th>\n",
       "      <th>labels</th>\n",
       "      <th>text</th>\n",
       "      <th>clf</th>\n",
       "    </tr>\n",
       "  </thead>\n",
       "  <tbody>\n",
       "    <tr>\n",
       "      <th>0</th>\n",
       "      <td>O B_ORG I_ORG I_ORG B_PER I_PER O O B_ORG I_OR...</td>\n",
       "      <td>Полузащитник футбольного клуба Челси Фрэнк Лэм...</td>\n",
       "      <td>False</td>\n",
       "    </tr>\n",
       "    <tr>\n",
       "      <th>1</th>\n",
       "      <td>O O O O O O O O O O O O O O O</td>\n",
       "      <td>Эта акция была организованна фанатами « шпор »...</td>\n",
       "      <td>True</td>\n",
       "    </tr>\n",
       "    <tr>\n",
       "      <th>2</th>\n",
       "      <td>B_ORG I_ORG O B_ORG I_ORG O O O O</td>\n",
       "      <td>Футбольная ассоциация и профсоюз игроков уже п...</td>\n",
       "      <td>False</td>\n",
       "    </tr>\n",
       "    <tr>\n",
       "      <th>3</th>\n",
       "      <td>O O O O O O O O O O O O O O O O O O O O O O O</td>\n",
       "      <td>Главным образом , это связано с тем , что за ч...</td>\n",
       "      <td>True</td>\n",
       "    </tr>\n",
       "    <tr>\n",
       "      <th>4</th>\n",
       "      <td>O O O O O B_ORG I_ORG</td>\n",
       "      <td>В среду началась новая сессия Конгресса США</td>\n",
       "      <td>False</td>\n",
       "    </tr>\n",
       "  </tbody>\n",
       "</table>\n",
       "</div>"
      ],
      "text/plain": [
       "                                              labels  \\\n",
       "0  O B_ORG I_ORG I_ORG B_PER I_PER O O B_ORG I_OR...   \n",
       "1                      O O O O O O O O O O O O O O O   \n",
       "2                  B_ORG I_ORG O B_ORG I_ORG O O O O   \n",
       "3      O O O O O O O O O O O O O O O O O O O O O O O   \n",
       "4                              O O O O O B_ORG I_ORG   \n",
       "\n",
       "                                                text    clf  \n",
       "0  Полузащитник футбольного клуба Челси Фрэнк Лэм...  False  \n",
       "1  Эта акция была организованна фанатами « шпор »...   True  \n",
       "2  Футбольная ассоциация и профсоюз игроков уже п...  False  \n",
       "3  Главным образом , это связано с тем , что за ч...   True  \n",
       "4        В среду началась новая сессия Конгресса США  False  "
      ]
     },
     "execution_count": 1,
     "metadata": {},
     "output_type": "execute_result"
    }
   ],
   "source": [
    "import pandas as pd\n",
    "dev_df_path = \"/home/longdo/Documents/Intern_Project/data/NER/factRuEval-2016-master/dev.csv\"\n",
    "df = pd.read_csv(dev_df_path, sep=\"\\t\")\n",
    "df.head()"
   ]
  },
  {
   "cell_type": "code",
   "execution_count": 16,
   "metadata": {},
   "outputs": [
    {
     "data": {
      "text/plain": [
       "{'B_ORG', 'B_PER', 'I_ORG', 'I_PER', 'O'}"
      ]
     },
     "execution_count": 16,
     "metadata": {},
     "output_type": "execute_result"
    }
   ],
   "source": [
    "list_tag = []\n",
    "for tags in df[\"labels\"]:\n",
    "    list_tag.extend(df[\"labels\"][0].split())\n",
    "\n",
    "set_tag = set(list_tag)\n",
    "set_tag"
   ]
  },
  {
   "cell_type": "code",
   "execution_count": 17,
   "metadata": {},
   "outputs": [
    {
     "data": {
      "image/png": "[encoded data removed]",
      "text/plain": [
       "<Figure size 432x288 with 1 Axes>"
      ]
     },
     "metadata": {
      "needs_background": "light"
     },
     "output_type": "display_data"
    },
    {
     "data": {
      "image/png": "[encoded data removed]",
      "text/plain": [
       "<Figure size 432x288 with 1 Axes>"
      ]
     },
     "metadata": {
      "needs_background": "light"
     },
     "output_type": "display_data"
    }
   ],
   "source": [
    "import matplotlib.pyplot as plt\n",
    "\n",
    "%matplotlib inline\n",
    "check_tgt = [i for i in list_tag if i != \"O\"]\n",
    "plt.hist(list_tag)\n",
    "plt.show()\n",
    "plt.hist(check_tgt)\n",
    "plt.show()"
   ]
  },
  {
   "cell_type": "code",
   "execution_count": null,
   "metadata": {},
   "outputs": [],
   "source": []
  }
 ],
 "metadata": {
  "interpreter": {
   "hash": "31f2aee4e71d21fbe5cf8b01ff0e069b9275f58929596ceb00d14d90e3e16cd6"
  },
  "kernelspec": {
   "display_name": "Python 3.8.10 64-bit",
   "language": "python",
   "name": "python3"
  },
  "language_info": {
   "codemirror_mode": {
    "name": "ipython",
    "version": 3
   },
   "file_extension": ".py",
   "mimetype": "text/x-python",
   "name": "python",
   "nbconvert_exporter": "python",
   "pygments_lexer": "ipython3",
   "version": "3.8.10"
  },
  "orig_nbformat": 4
 },
 "nbformat": 4,
 "nbformat_minor": 2
}
